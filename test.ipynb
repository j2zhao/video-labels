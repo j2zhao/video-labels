{
 "cells": [
  {
   "cell_type": "code",
   "execution_count": 1,
   "id": "interim-shark",
   "metadata": {},
   "outputs": [],
   "source": [
    "from numpy import append\n",
    "import json\n",
    "from manager.label_manager import LabelManager\n",
    "from manager.match import match_object\n",
    "from manager import simple_attributes\n",
    "from manager.position_error import *\n",
    "\n",
    "from discontinuity_errors.breaks import *"
   ]
  },
  {
   "cell_type": "code",
   "execution_count": 7,
   "id": "typical-barrel",
   "metadata": {},
   "outputs": [],
   "source": [
    "with open('/mnt/bdd100k_mot/labels/box_track_20/true_labels_formatted.json', 'r') as f:\n",
    "    true_labels_json = f.read()\n",
    "with open('/mnt/bdd100k_mot/images/track/yolo_result_formatted.json', 'r') as f:\n",
    "    yolo_labels_json = f.read()\n",
    "\n",
    "true_labels = json.loads(true_labels_json)\n",
    "yolo_labels = json.loads(yolo_labels_json)"
   ]
  },
  {
   "cell_type": "code",
   "execution_count": 12,
   "id": "competitive-apparatus",
   "metadata": {},
   "outputs": [],
   "source": [
    "true_labels_1 = {'02995fe4-e81dc93c': true_labels[:203]}\n",
    "yolo_labels_1 = {'02995fe4-e81dc93c': yolo_labels[180249:180452]}\n",
    "\n",
    "true_labels_1_str = json.dumps(true_labels_1)\n",
    "yolo_labels_1_str = json.dumps(yolo_labels_1)\n",
    "\n",
    "with open('true_labels_1.json', 'w') as f:\n",
    "    f.write(true_labels_1_str)\n",
    "with open('yolo_labels_1.json', 'w') as f:\n",
    "    f.write(yolo_labels_1_str)"
   ]
  },
  {
   "cell_type": "code",
   "execution_count": 2,
   "id": "noticed-austin",
   "metadata": {},
   "outputs": [],
   "source": [
    "with open('true_labels_1.json', 'r') as f:\n",
    "    true_labels_1_str = f.read()\n",
    "with open('yolo_labels_1.json', 'r') as f:\n",
    "    yolo_labels_1_str = f.read()\n",
    "\n",
    "true_labels_1 = json.loads(true_labels_1_str)\n",
    "yolo_labels_1 = json.loads(yolo_labels_1_str)"
   ]
  },
  {
   "cell_type": "code",
   "execution_count": 3,
   "id": "literary-briefing",
   "metadata": {},
   "outputs": [],
   "source": [
    "# replace img_dir with image directory\n",
    "manager = LabelManager(true_labels_1, yolo_labels_1, match_object, img_dir = \"/mnt/bdd100k_mot/images/track/train/02995fe4-e81dc93c/\")"
   ]
  },
  {
   "cell_type": "code",
   "execution_count": 4,
   "id": "actual-presence",
   "metadata": {},
   "outputs": [
    {
     "name": "stderr",
     "output_type": "stream",
     "text": [
      "/usr/local/lib/python3.8/dist-packages/numpy/core/fromnumeric.py:3474: RuntimeWarning: Mean of empty slice.\n",
      "  return _methods._mean(a, axis=axis, dtype=dtype,\n",
      "/usr/local/lib/python3.8/dist-packages/numpy/core/_methods.py:181: RuntimeWarning: invalid value encountered in true_divide\n",
      "  ret = um.true_divide(\n"
     ]
    }
   ],
   "source": [
    "# add attributes -> from simple attributes\n",
    "manager.add_attribute('img_size', simple_attributes.img_size)\n",
    "manager.add_attribute('img_color', simple_attributes.avg_bb_wrapper(simple_attributes.img_color))\n",
    "manager.add_attribute('img_lumin', simple_attributes.avg_bb_wrapper(simple_attributes.img_lumin))\n",
    "manager.add_attribute('img_edges', simple_attributes.avg_bb_wrapper(simple_attributes.img_edges))\n"
   ]
  },
  {
   "cell_type": "code",
   "execution_count": 5,
   "id": "mediterranean-grass",
   "metadata": {},
   "outputs": [
    {
     "name": "stdout",
     "output_type": "stream",
     "text": [
      "defaultdict(<class 'int'>, {'fp': 21, 'fn': 1})\n",
      "defaultdict(<class 'int'>, {'fn': 494, 'tp': 117, 'fp': 333})\n"
     ]
    }
   ],
   "source": [
    "# evaluate position errors -> dashboard error\n",
    "loc_error = define_location_error(x_center=[0.8, 1])\n",
    "\n",
    "shape_error = define_shape_error(min_width=0.75)\n",
    "\n",
    "dashboard_error = and_error(loc_error, shape_error)\n",
    "errors, label_size = manager.eval_error(\"dashboard_error\", dashboard_error)\n",
    "\n",
    "print(errors) # evaluate errors based on these criteria (maybe more), and see if we \n",
    "print(label_size) # TODO: add more"
   ]
  },
  {
   "cell_type": "code",
   "execution_count": 6,
   "id": "remarkable-familiar",
   "metadata": {},
   "outputs": [],
   "source": [
    "# evaluate breaks -> try breaks function, and display kpi\n",
    "metrics = manager.get_metric(metric_funct)\n",
    "breaks = find_breaks(manager.labels, metrics)\n"
   ]
  },
  {
   "cell_type": "code",
   "execution_count": 11,
   "id": "chicken-donna",
   "metadata": {},
   "outputs": [
    {
     "data": {
      "text/plain": [
       "{'02995fe4-e81dc93c': [90, 105]}"
      ]
     },
     "execution_count": 11,
     "metadata": {},
     "output_type": "execute_result"
    }
   ],
   "source": [
    "breaks"
   ]
  },
  {
   "cell_type": "code",
   "execution_count": 7,
   "id": "final-adelaide",
   "metadata": {},
   "outputs": [],
   "source": [
    "# TODO: evaluate how efficient we are at finding breaks -> with visualization and metrics -> maybe play around with hyper parameters\n",
    "\n"
   ]
  },
  {
   "cell_type": "code",
   "execution_count": 5,
   "id": "minus-mexico",
   "metadata": {},
   "outputs": [
    {
     "data": {
      "image/png": "[encoded data removed]",
      "text/plain": [
       "<Figure size 432x288 with 1 Axes>"
      ]
     },
     "metadata": {
      "needs_background": "light"
     },
     "output_type": "display_data"
    }
   ],
   "source": [
    "# display KPI to evaluate if RDD works -> play around with all parameters\n",
    "display_kpi(manager.labels, video=\"02995fe4-e81dc93c\", start_frame=0, kpi_funct=avg_kpi, attribute='img_color') #video -> video name to display, start_frame +> where to display -> find by hand\n"
   ]
  },
  {
   "cell_type": "code",
   "execution_count": 6,
   "id": "harmful-baseline",
   "metadata": {},
   "outputs": [
    {
     "data": {
      "image/png": "[encoded data removed]",
      "text/plain": [
       "<Figure size 432x288 with 1 Axes>"
      ]
     },
     "metadata": {
      "needs_background": "light"
     },
     "output_type": "display_data"
    }
   ],
   "source": [
    "display_kpi(manager.labels, video=\"02995fe4-e81dc93c\", start_frame=0, kpi_funct=avg_kpi, attribute='img_lumin') #video -> video name to display, start_frame +> where to display -> find by hand\n"
   ]
  },
  {
   "cell_type": "code",
   "execution_count": 7,
   "id": "subtle-company",
   "metadata": {},
   "outputs": [
    {
     "data": {
      "image/png": "[encoded data removed]",
      "text/plain": [
       "<Figure size 432x288 with 1 Axes>"
      ]
     },
     "metadata": {
      "needs_background": "light"
     },
     "output_type": "display_data"
    }
   ],
   "source": [
    "display_kpi(manager.labels, video=\"02995fe4-e81dc93c\", start_frame=0, kpi_funct=avg_kpi, attribute='img_edges') #video -> video name to display, start_frame +> where to display -> find by hand\n"
   ]
  },
  {
   "cell_type": "code",
   "execution_count": 8,
   "id": "musical-capability",
   "metadata": {},
   "outputs": [
    {
     "data": {
      "image/png": "[encoded data removed]",
      "text/plain": [
       "<Figure size 432x288 with 1 Axes>"
      ]
     },
     "metadata": {
      "needs_background": "light"
     },
     "output_type": "display_data"
    }
   ],
   "source": [
    "display_kpi(manager.labels, video=\"02995fe4-e81dc93c\", start_frame=0, kpi_funct=avg_kpi, attribute='img_size') #video -> video name to display, start_frame +> where to display -> find by hand\n"
   ]
  },
  {
   "cell_type": "code",
   "execution_count": null,
   "id": "vocal-adrian",
   "metadata": {},
   "outputs": [],
   "source": []
  }
 ],
 "metadata": {
  "kernelspec": {
   "display_name": "Python 3",
   "language": "python",
   "name": "python3"
  },
  "language_info": {
   "codemirror_mode": {
    "name": "ipython",
    "version": 3
   },
   "file_extension": ".py",
   "mimetype": "text/x-python",
   "name": "python",
   "nbconvert_exporter": "python",
   "pygments_lexer": "ipython3",
   "version": "3.8.5"
  }
 },
 "nbformat": 4,
 "nbformat_minor": 5
}
